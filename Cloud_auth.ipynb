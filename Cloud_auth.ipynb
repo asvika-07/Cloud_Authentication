{
  "nbformat": 4,
  "nbformat_minor": 0,
  "metadata": {
    "colab": {
      "provenance": []
    },
    "kernelspec": {
      "name": "python3",
      "display_name": "Python 3"
    },
    "language_info": {
      "name": "python"
    }
  },
  "cells": [
    {
      "cell_type": "code",
      "source": [
        "!pip install qrcode\n",
        "!pip install opencv-python\n",
        "!pip install pillow\n",
        "!pip install pycrypto\n",
        "!pip install \"pycryptodome==3.9.7\""
      ],
      "metadata": {
        "colab": {
          "base_uri": "https://localhost:8080/"
        },
        "id": "j2OlaOLo1vrT",
        "outputId": "1e3ff8b2-d6ce-4eb6-a0b4-a7c58e839b92"
      },
      "execution_count": null,
      "outputs": [
        {
          "output_type": "stream",
          "name": "stdout",
          "text": [
            "Collecting qrcode\n",
            "  Downloading qrcode-7.4.2-py3-none-any.whl (46 kB)\n",
            "\u001b[2K     \u001b[90m━━━━━━━━━━━━━━━━━━━━━━━━━━━━━━━━━━━━━━━━\u001b[0m \u001b[32m46.2/46.2 kB\u001b[0m \u001b[31m502.1 kB/s\u001b[0m eta \u001b[36m0:00:00\u001b[0m\n",
            "\u001b[?25hRequirement already satisfied: typing-extensions in /usr/local/lib/python3.10/dist-packages (from qrcode) (4.5.0)\n",
            "Collecting pypng (from qrcode)\n",
            "  Downloading pypng-0.20220715.0-py3-none-any.whl (58 kB)\n",
            "\u001b[2K     \u001b[90m━━━━━━━━━━━━━━━━━━━━━━━━━━━━━━━━━━━━━━━━\u001b[0m \u001b[32m58.1/58.1 kB\u001b[0m \u001b[31m2.1 MB/s\u001b[0m eta \u001b[36m0:00:00\u001b[0m\n",
            "\u001b[?25hInstalling collected packages: pypng, qrcode\n",
            "Successfully installed pypng-0.20220715.0 qrcode-7.4.2\n",
            "Requirement already satisfied: opencv-python in /usr/local/lib/python3.10/dist-packages (4.8.0.76)\n",
            "Requirement already satisfied: numpy>=1.21.2 in /usr/local/lib/python3.10/dist-packages (from opencv-python) (1.23.5)\n",
            "Requirement already satisfied: pillow in /usr/local/lib/python3.10/dist-packages (9.4.0)\n",
            "Collecting pycrypto\n",
            "  Downloading pycrypto-2.6.1.tar.gz (446 kB)\n",
            "\u001b[2K     \u001b[90m━━━━━━━━━━━━━━━━━━━━━━━━━━━━━━━━━━━━━━━━\u001b[0m \u001b[32m446.2/446.2 kB\u001b[0m \u001b[31m5.0 MB/s\u001b[0m eta \u001b[36m0:00:00\u001b[0m\n",
            "\u001b[?25h  Preparing metadata (setup.py) ... \u001b[?25l\u001b[?25hdone\n",
            "Building wheels for collected packages: pycrypto\n",
            "  Building wheel for pycrypto (setup.py) ... \u001b[?25l\u001b[?25hdone\n",
            "  Created wheel for pycrypto: filename=pycrypto-2.6.1-cp310-cp310-linux_x86_64.whl size=498545 sha256=9eb01762c6694f2e93f136c7e1525c2c2311341f6cdd7b36d61649e4471614a1\n",
            "  Stored in directory: /root/.cache/pip/wheels/e8/4b/5b/b10a6fc885057b6ff9fbd5691d7e700d0a9408f80b7e6f12e0\n",
            "Successfully built pycrypto\n",
            "Installing collected packages: pycrypto\n",
            "Successfully installed pycrypto-2.6.1\n",
            "Collecting pycryptodome==3.9.7\n",
            "  Downloading pycryptodome-3.9.7.tar.gz (15.5 MB)\n",
            "\u001b[2K     \u001b[90m━━━━━━━━━━━━━━━━━━━━━━━━━━━━━━━━━━━━━━━━\u001b[0m \u001b[32m15.5/15.5 MB\u001b[0m \u001b[31m33.4 MB/s\u001b[0m eta \u001b[36m0:00:00\u001b[0m\n",
            "\u001b[?25h  Preparing metadata (setup.py) ... \u001b[?25l\u001b[?25hdone\n",
            "Building wheels for collected packages: pycryptodome\n",
            "  Building wheel for pycryptodome (setup.py) ... \u001b[?25l\u001b[?25hdone\n",
            "  Created wheel for pycryptodome: filename=pycryptodome-3.9.7-cp310-cp310-linux_x86_64.whl size=13642429 sha256=8fbcdfd3bf039e05ba1b8f3cc16fd414c1610a5e3fa57b7d960fc8a03bb3c288\n",
            "  Stored in directory: /root/.cache/pip/wheels/47/b6/b7/d78b614423573e0dac519eebfce754de45a158b7890d3c16f4\n",
            "Successfully built pycryptodome\n",
            "Installing collected packages: pycryptodome\n",
            "Successfully installed pycryptodome-3.9.7\n"
          ]
        }
      ]
    },
    {
      "cell_type": "code",
      "source": [
        "ACL_json = '''\n",
        "[\n",
        "    {\n",
        "        \"name\":\"user1\",\n",
        "        \"resources\":\"resource1\"\n",
        "    },\n",
        "\n",
        "    {\n",
        "        \"name\":\"user2\",\n",
        "        \"resources\":\"resource2\"\n",
        "    },\n",
        "\n",
        "    {\n",
        "        \"name\":\"user3\",\n",
        "        \"resources\":\"resource3\"\n",
        "    }\n",
        "]\n",
        "'''"
      ],
      "metadata": {
        "id": "uAUgB5fmfiuP"
      },
      "execution_count": null,
      "outputs": []
    },
    {
      "cell_type": "code",
      "source": [
        "import qrcode\n",
        "import random\n",
        "import string\n",
        "from Crypto.Hash import SHA256\n",
        "from Crypto.PublicKey import RSA\n",
        "from Crypto.Signature import pkcs1_15\n",
        "import base64\n",
        "import cv2 as cv\n",
        "import json\n",
        "import ast\n",
        "\n",
        "# User requests access to a resource or service\n",
        "user_name = \"user2\"\n",
        "requested_resource = \"resource1\"\n",
        "session_id = ''.join(random.choices(string.ascii_letters + string.digits, k=7))\n",
        "\n",
        "key = RSA.generate(2048)\n",
        "qr_code_data = {\"user\":user_name,\"resource\": requested_resource, \"session_id\": session_id}\n",
        "qr_code_data_str = str(qr_code_data).encode('utf-8')\n",
        "hash = SHA256.new(qr_code_data_str)\n",
        "signature = pkcs1_15.new(key).sign(hash)\n",
        "\n",
        "qr = qrcode.QRCode(\n",
        "    version=1,\n",
        "    error_correction=qrcode.constants.ERROR_CORRECT_H,\n",
        "    box_size=10,\n",
        "    border=4,\n",
        ")\n",
        "qr.add_data(qr_code_data_str)\n",
        "qr.make(fit=True)\n",
        "img = qr.make_image(fill_color=\"black\", back_color=\"white\").convert('RGB')\n",
        "img.save(\"sample.png\")\n"
      ],
      "metadata": {
        "id": "GflXmqJit8qJ"
      },
      "execution_count": null,
      "outputs": []
    },
    {
      "cell_type": "code",
      "source": [
        "import json\n",
        "ACL = json.loads(ACL_json)\n",
        "print(len(ACL))"
      ],
      "metadata": {
        "colab": {
          "base_uri": "https://localhost:8080/"
        },
        "id": "by0PUvLaglkZ",
        "outputId": "34159f8e-4c36-4c31-a0c5-55b9d31427d3"
      },
      "execution_count": null,
      "outputs": [
        {
          "output_type": "stream",
          "name": "stdout",
          "text": [
            "3\n"
          ]
        }
      ]
    },
    {
      "cell_type": "code",
      "source": [],
      "metadata": {
        "id": "Xk_L99GcjXZ1"
      },
      "execution_count": null,
      "outputs": []
    },
    {
      "cell_type": "code",
      "source": [
        "# verify the QR and user's identity\n",
        "im = cv.imread('/content/sample.png')\n",
        "det = cv.QRCodeDetector()\n",
        "retval, points, straight_qrcode = det.detectAndDecode(im)\n",
        "print(retval)\n",
        "ret = ast.literal_eval(retval)\n",
        "if ret[\"resource\"] == requested_resource and ret[\"session_id\"] == session_id:\n",
        "  qr_code_data_str = str(retval).encode('utf-8')\n",
        "  hash = SHA256.new(qr_code_data_str)\n",
        "  public_key = key.publickey()\n",
        "  try:\n",
        "    pkcs1_15.new(public_key).verify(hash, signature)\n",
        "  except (ValueError, TypeError):\n",
        "    print(\"QR code verification failed. Access denied.\")\n",
        "    exit()\n",
        "  for i in range(0,len(ACL)):\n",
        "    temp = ACL[i]\n",
        "    if(temp[\"name\"]==ret[\"user\"] and temp[\"resources\"] == ret[\"resource\"]):\n",
        "      print(\"name : \",temp[\"name\"], \"resource : \",temp[\"resources\"])\n",
        "      print(\"Access granted\")\n",
        "      break\n",
        "    else:\n",
        "      print(\"Access denied.User is not authorized for this resource.\")\n",
        "else:\n",
        "  print(\"QR code verification failed.Access denied.\")\n",
        "\n"
      ],
      "metadata": {
        "colab": {
          "base_uri": "https://localhost:8080/"
        },
        "id": "IcPyYgT42579",
        "outputId": "53e7f390-c2ae-47b3-8dc9-60ca282858ad"
      },
      "execution_count": null,
      "outputs": [
        {
          "output_type": "stream",
          "name": "stdout",
          "text": [
            "{'user': 'user2', 'resource': 'resource1', 'session_id': 'txALdCV'}\n",
            "Access denied.User is not authorized for this resource.\n",
            "Access denied.User is not authorized for this resource.\n",
            "Access denied.User is not authorized for this resource.\n"
          ]
        }
      ]
    },
    {
      "cell_type": "code",
      "source": [],
      "metadata": {
        "id": "2WKK5cJuAFq4"
      },
      "execution_count": null,
      "outputs": []
    }
  ]
}